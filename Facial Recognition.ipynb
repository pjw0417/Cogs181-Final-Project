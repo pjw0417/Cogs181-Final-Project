{
 "cells": [
  {
   "cell_type": "code",
   "execution_count": 1,
   "id": "cae70548",
   "metadata": {},
   "outputs": [
    {
     "name": "stdout",
     "output_type": "stream",
     "text": [
      "Defaulting to user installation because normal site-packages is not writeable\n",
      "Requirement already satisfied: scikit-learn in /opt/conda/lib/python3.9/site-packages (0.24.2)\n",
      "Requirement already satisfied: threadpoolctl>=2.0.0 in /opt/conda/lib/python3.9/site-packages (from scikit-learn) (2.2.0)\n",
      "Requirement already satisfied: numpy>=1.13.3 in /opt/conda/lib/python3.9/site-packages (from scikit-learn) (1.22.4)\n",
      "Requirement already satisfied: scipy>=0.19.1 in /opt/conda/lib/python3.9/site-packages (from scikit-learn) (1.7.0)\n",
      "Requirement already satisfied: joblib>=0.11 in /opt/conda/lib/python3.9/site-packages (from scikit-learn) (1.0.1)\n"
     ]
    }
   ],
   "source": [
    "!pip install scikit-learn\n"
   ]
  },
  {
   "cell_type": "code",
   "execution_count": 2,
   "id": "0b0519ad",
   "metadata": {},
   "outputs": [],
   "source": [
    "#imports\n",
    "from sklearn.datasets import fetch_olivetti_faces\n",
    "from sklearn.model_selection import train_test_split\n",
    "%matplotlib inline\n",
    "import matplotlib.pyplot as plt\n",
    "import numpy as np\n",
    "import torch\n",
    "import torchvision\n",
    "import torchvision.transforms as transforms\n",
    "from torch.utils.data import Dataset, DataLoader\n",
    "import torch.nn as nn\n",
    "import torch.nn.functional as F\n",
    "import torch.optim as optim"
   ]
  },
  {
   "cell_type": "code",
   "execution_count": 3,
   "id": "ce84f085",
   "metadata": {},
   "outputs": [],
   "source": [
    "class OlivettiFacesDataset(Dataset): #fetching data\n",
    "    def __init__(self, data, targets, transform=None):\n",
    "        self.data = data\n",
    "        self.targets = targets\n",
    "        self.transform = transform\n",
    "        \n",
    "    def __len__(self): #total number of samples\n",
    "        return len(self.data)\n",
    "    \n",
    "    def __getitem__(self, idx): #applying transform to our data\n",
    "        image = self.data[idx]\n",
    "        target = self.targets[idx]\n",
    "        if self.transform:\n",
    "            image = self.transform(image)\n",
    "        return image, target"
   ]
  },
  {
   "cell_type": "code",
   "execution_count": 4,
   "id": "57acf05b",
   "metadata": {},
   "outputs": [
    {
     "data": {
      "image/png": "[encoded data removed]",
      "text/plain": [
       "<Figure size 432x288 with 1 Axes>"
      ]
     },
     "metadata": {
      "needs_background": "light"
     },
     "output_type": "display_data"
    }
   ],
   "source": [
    "data = fetch_olivetti_faces(shuffle=True, random_state=42)\n",
    "images = data.images\n",
    "targets = data.target\n",
    "\n",
    "# Example: Show the first image\n",
    "plt.imshow(images[0], cmap=\"gray\")\n",
    "plt.title(f\"Subject: {targets[0]}\")\n",
    "plt.show()"
   ]
  },
  {
   "cell_type": "code",
   "execution_count": 5,
   "id": "e3f53281",
   "metadata": {},
   "outputs": [
    {
     "data": {
      "text/plain": [
       "{'data': array([[0.1983471 , 0.23553719, 0.35123968, ..., 0.06198347, 0.12809917,\n",
       "         0.09090909],\n",
       "        [0.18595041, 0.12809917, 0.11570248, ..., 0.19008264, 0.2107438 ,\n",
       "         0.2107438 ],\n",
       "        [0.5082645 , 0.60330576, 0.6198347 , ..., 0.33471075, 0.3429752 ,\n",
       "         0.3429752 ],\n",
       "        ...,\n",
       "        [0.61157024, 0.6446281 , 0.6570248 , ..., 0.17768595, 0.2107438 ,\n",
       "         0.2231405 ],\n",
       "        [0.28512397, 0.29338843, 0.29752067, ..., 0.53305787, 0.53305787,\n",
       "         0.5371901 ],\n",
       "        [0.3264463 , 0.1446281 , 0.2603306 , ..., 0.14049587, 0.30165288,\n",
       "         0.1570248 ]], dtype=float32),\n",
       " 'images': array([[[0.1983471 , 0.23553719, 0.35123968, ..., 0.5041322 ,\n",
       "          0.5289256 , 0.5289256 ],\n",
       "         [0.19421488, 0.24380165, 0.36363637, ..., 0.5041322 ,\n",
       "          0.5165289 , 0.5289256 ],\n",
       "         [0.1983471 , 0.2520661 , 0.35950413, ..., 0.5123967 ,\n",
       "          0.5123967 , 0.5247934 ],\n",
       "         ...,\n",
       "         [0.35950413, 0.57024795, 0.55785125, ..., 0.11570248,\n",
       "          0.0785124 , 0.09917355],\n",
       "         [0.55785125, 0.607438  , 0.5785124 , ..., 0.07438017,\n",
       "          0.07438017, 0.12809917],\n",
       "         [0.62396693, 0.59090906, 0.6280992 , ..., 0.06198347,\n",
       "          0.12809917, 0.09090909]],\n",
       " \n",
       "        [[0.18595041, 0.12809917, 0.11570248, ..., 0.1694215 ,\n",
       "          0.18181819, 0.15289256],\n",
       "         [0.18595041, 0.18595041, 0.11570248, ..., 0.15289256,\n",
       "          0.1570248 , 0.1446281 ],\n",
       "         [0.23553719, 0.17768595, 0.1446281 , ..., 0.11570248,\n",
       "          0.16115703, 0.11157025],\n",
       "         ...,\n",
       "         [0.38842976, 0.38016528, 0.38429752, ..., 0.21487603,\n",
       "          0.21487603, 0.20661157],\n",
       "         [0.37190083, 0.39256197, 0.38016528, ..., 0.2107438 ,\n",
       "          0.1983471 , 0.21900827],\n",
       "         [0.37190083, 0.38842976, 0.3677686 , ..., 0.19008264,\n",
       "          0.2107438 , 0.2107438 ]],\n",
       " \n",
       "        [[0.5082645 , 0.60330576, 0.6198347 , ..., 0.30165288,\n",
       "          0.32231405, 0.29338843],\n",
       "         [0.55785125, 0.61157024, 0.62396693, ..., 0.28512397,\n",
       "          0.3181818 , 0.3305785 ],\n",
       "         [0.59090906, 0.62396693, 0.6363636 , ..., 0.30991736,\n",
       "          0.29752067, 0.338843  ],\n",
       "         ...,\n",
       "         [0.30991736, 0.29338843, 0.338843  , ..., 0.338843  ,\n",
       "          0.338843  , 0.34710744],\n",
       "         [0.30578512, 0.28099173, 0.30991736, ..., 0.33471075,\n",
       "          0.3429752 , 0.34710744],\n",
       "         [0.29338843, 0.19421488, 0.24793388, ..., 0.33471075,\n",
       "          0.3429752 , 0.3429752 ]],\n",
       " \n",
       "        ...,\n",
       " \n",
       "        [[0.61157024, 0.6446281 , 0.6570248 , ..., 0.5165289 ,\n",
       "          0.42561984, 0.28512397],\n",
       "         [0.60330576, 0.6280992 , 0.6570248 , ..., 0.5       ,\n",
       "          0.42561984, 0.3181818 ],\n",
       "         [0.59504133, 0.62396693, 0.6570248 , ..., 0.5       ,\n",
       "          0.42561984, 0.27272728],\n",
       "         ...,\n",
       "         [0.16115703, 0.15289256, 0.16528925, ..., 0.14049587,\n",
       "          0.1570248 , 0.2107438 ],\n",
       "         [0.16115703, 0.1570248 , 0.13636364, ..., 0.1570248 ,\n",
       "          0.17768595, 0.1983471 ],\n",
       "         [0.15289256, 0.1570248 , 0.14876033, ..., 0.17768595,\n",
       "          0.2107438 , 0.2231405 ]],\n",
       " \n",
       "        [[0.28512397, 0.29338843, 0.29752067, ..., 0.4090909 ,\n",
       "          0.3181818 , 0.32231405],\n",
       "         [0.24380165, 0.24380165, 0.2520661 , ..., 0.3966942 ,\n",
       "          0.28099173, 0.35123968],\n",
       "         [0.24380165, 0.23966943, 0.23966943, ..., 0.4214876 ,\n",
       "          0.30165288, 0.3429752 ],\n",
       "         ...,\n",
       "         [0.21900827, 0.20661157, 0.21487603, ..., 0.5247934 ,\n",
       "          0.5247934 , 0.5289256 ],\n",
       "         [0.2231405 , 0.1983471 , 0.21900827, ..., 0.5247934 ,\n",
       "          0.53305787, 0.5371901 ],\n",
       "         [0.21487603, 0.2107438 , 0.21487603, ..., 0.53305787,\n",
       "          0.53305787, 0.5371901 ]],\n",
       " \n",
       "        [[0.3264463 , 0.1446281 , 0.2603306 , ..., 0.5206612 ,\n",
       "          0.46280992, 0.3966942 ],\n",
       "         [0.24380165, 0.11157025, 0.5041322 , ..., 0.5289256 ,\n",
       "          0.45867768, 0.4214876 ],\n",
       "         [0.21900827, 0.16528925, 0.6694215 , ..., 0.5247934 ,\n",
       "          0.45454547, 0.43801653],\n",
       "         ...,\n",
       "         [0.1694215 , 0.20247933, 0.18181819, ..., 0.19008264,\n",
       "          0.18595041, 0.18595041],\n",
       "         [0.18595041, 0.21900827, 0.17768595, ..., 0.11983471,\n",
       "          0.2603306 , 0.17768595],\n",
       "         [0.20661157, 0.18595041, 0.2231405 , ..., 0.14049587,\n",
       "          0.30165288, 0.1570248 ]]], dtype=float32),\n",
       " 'target': array([20, 28,  3, 21,  9,  8, 32,  9, 26, 12,  0, 36,  5,  7, 13,  4, 27,\n",
       "        37, 23, 38,  7,  1, 39, 27,  0, 39, 11, 22, 26, 10, 39, 19, 26,  5,\n",
       "        23, 11, 11, 34, 15, 14, 38,  5,  7,  2,  8, 38, 14, 18,  2, 17,  4,\n",
       "        32, 33,  7, 37,  3, 22, 17,  3, 15, 12, 29, 25,  7, 10,  3, 35, 26,\n",
       "        39,  7, 32, 14,  0,  4, 38, 24, 22, 36, 17, 28,  0,  1, 20, 25, 27,\n",
       "         6, 24, 30, 10,  9, 23, 33, 11, 22, 18, 31, 37, 38, 23,  7, 24, 11,\n",
       "         1,  6, 15,  0,  1, 13, 35, 34, 13, 38, 29, 38, 29,  6,  7, 28, 30,\n",
       "        28, 15, 10,  1, 34,  2, 17, 35, 33, 16, 24, 31, 14, 25, 17, 11, 19,\n",
       "        22, 26, 21, 30,  3, 13, 29, 15, 19, 28,  5, 11, 16, 36,  0, 33, 27,\n",
       "        15,  1, 19, 10,  8, 31, 39, 37, 20, 28, 16, 35,  8, 37, 16, 14, 22,\n",
       "         9,  6, 12,  9, 14, 32,  9, 23,  6,  2,  3, 14, 12, 18,  6, 19, 32,\n",
       "        21, 31, 19, 12, 14, 37,  8, 33, 34, 33, 35, 33, 30, 18, 20, 28, 21,\n",
       "        28, 12,  3,  1, 32, 18, 22, 11, 17, 32, 29, 11, 36, 27, 38, 28, 36,\n",
       "        16, 25, 13, 15, 19, 19, 39,  0, 20, 11, 23, 23,  2, 12, 35, 22, 36,\n",
       "        37, 35, 37, 12,  7, 32,  2,  8, 38, 10, 24, 29, 13, 24, 18, 29,  4,\n",
       "        36,  6,  8, 24, 18, 15,  1,  3,  2, 17, 14, 31, 27, 22,  9,  5, 24,\n",
       "        29, 30, 17,  4, 31, 20, 25, 33,  0, 25, 35, 10, 22, 34, 21, 17,  9,\n",
       "        21,  6,  4,  3, 26, 20, 35,  2, 31, 23, 26, 28, 16, 37, 13,  6, 13,\n",
       "        12,  0,  6, 30,  1, 15,  4, 36, 32, 21, 27, 34, 23, 20, 21, 29, 36,\n",
       "        25, 39, 36, 30, 26, 20, 16,  4, 21, 19, 30, 25, 10,  5,  0,  4,  8,\n",
       "        20,  3, 26,  9, 33,  5, 34, 26, 24,  1, 31,  8, 27, 16, 32, 39, 13,\n",
       "        30, 38, 31, 24,  5,  5, 17, 18, 39, 18, 16,  5,  4, 34, 23, 25,  2,\n",
       "        31, 16, 27, 19, 29, 34, 25, 30, 14, 13, 15, 35,  9, 37,  8, 33, 21,\n",
       "        12, 39,  2, 18,  7, 10, 27, 34, 10]),\n",
       " 'DESCR': '.. _olivetti_faces_dataset:\\n\\nThe Olivetti faces dataset\\n--------------------------\\n\\n`This dataset contains a set of face images`_ taken between April 1992 and \\nApril 1994 at AT&T Laboratories Cambridge. The\\n:func:`sklearn.datasets.fetch_olivetti_faces` function is the data\\nfetching / caching function that downloads the data\\narchive from AT&T.\\n\\n.. _This dataset contains a set of face images: http://www.cl.cam.ac.uk/research/dtg/attarchive/facedatabase.html\\n\\nAs described on the original website:\\n\\n    There are ten different images of each of 40 distinct subjects. For some\\n    subjects, the images were taken at different times, varying the lighting,\\n    facial expressions (open / closed eyes, smiling / not smiling) and facial\\n    details (glasses / no glasses). All the images were taken against a dark\\n    homogeneous background with the subjects in an upright, frontal position \\n    (with tolerance for some side movement).\\n\\n**Data Set Characteristics:**\\n\\n    =================   =====================\\n    Classes                                40\\n    Samples total                         400\\n    Dimensionality                       4096\\n    Features            real, between 0 and 1\\n    =================   =====================\\n\\nThe image is quantized to 256 grey levels and stored as unsigned 8-bit \\nintegers; the loader will convert these to floating point values on the \\ninterval [0, 1], which are easier to work with for many algorithms.\\n\\nThe \"target\" for this database is an integer from 0 to 39 indicating the\\nidentity of the person pictured; however, with only 10 examples per class, this\\nrelatively small dataset is more interesting from an unsupervised or\\nsemi-supervised perspective.\\n\\nThe original dataset consisted of 92 x 112, while the version available here\\nconsists of 64x64 images.\\n\\nWhen using these images, please give credit to AT&T Laboratories Cambridge.\\n'}"
      ]
     },
     "execution_count": 5,
     "metadata": {},
     "output_type": "execute_result"
    }
   ],
   "source": [
    "data"
   ]
  },
  {
   "cell_type": "code",
   "execution_count": 6,
   "id": "3728c621",
   "metadata": {},
   "outputs": [
    {
     "name": "stdout",
     "output_type": "stream",
     "text": [
      "shape of images:  (400, 64, 64)\n",
      "shape of data matrix:  (400, 4096)\n",
      "There are 400 images in the dataset.\n",
      "There are 40 unique targets in the dataset.\n",
      "No need to normalize as it is already between 0 and 1\n"
     ]
    }
   ],
   "source": [
    "print(\"shape of images: \", images.shape)\n",
    "print(\"shape of data matrix: \", data.data.shape)\n",
    "print(\"There are {} images in the dataset.\".format(images.shape[0]))\n",
    "print(\"There are {} unique targets in the dataset.\".format(len(np.unique(targets))))\n",
    "print(\"No need to normalize as it is already between 0 and 1\")"
   ]
  },
  {
   "cell_type": "code",
   "execution_count": 9,
   "id": "a1d3287a",
   "metadata": {},
   "outputs": [
    {
     "name": "stdout",
     "output_type": "stream",
     "text": [
      "X_train's shape: (320, 1, 64, 64)\n",
      "X_test's shape: (80, 1, 64, 64)\n",
      "y_train's shape: (320,)\n",
      "y_test's shape: (320,)\n"
     ]
    }
   ],
   "source": [
    "images_reshaped = images.reshape(-1, 1, 64, 64)\n",
    "X_train, X_test, y_train, y_test = train_test_split(images_reshaped, targets, test_size=0.2, random_state=42)\n",
    "\n",
    "# Create a DataLoader without normalization to compute mean and std\n",
    "compute_loader = DataLoader(OlivettiFacesDataset(X_train, y_train, transform=transforms.ToTensor()), batch_size=4, shuffle=False)\n",
    "print(\"X_train's shape:\",X_train.shape)\n",
    "print(\"X_test's shape:\",X_test.shape)\n",
    "print(\"y_train's shape:\",y_train.shape)\n",
    "print(\"y_test's shape:\",y_train.shape)"
   ]
  },
  {
   "cell_type": "code",
   "execution_count": 10,
   "id": "2e3eb8f5",
   "metadata": {},
   "outputs": [
    {
     "name": "stdout",
     "output_type": "stream",
     "text": [
      "Mean: tensor(0.1363)\n",
      "Std: tensor(0.0396)\n"
     ]
    }
   ],
   "source": [
    "def get_mean_std(loader):\n",
    "    # Compute the mean and standard deviation of all pixels in the dataset\n",
    "    num_pixels = 0\n",
    "    mean = 0.0\n",
    "    std = 0.0\n",
    "    for images, _ in loader:\n",
    "        batch_size, num_channels, height, width = images.shape\n",
    "        num_pixels += batch_size * height * width\n",
    "        mean += images.mean(axis=(0, 2, 3)).sum()\n",
    "        std += images.std(axis=(0, 2, 3)).sum()\n",
    "\n",
    "    mean /= num_pixels\n",
    "    std /= num_pixels\n",
    "\n",
    "    return mean, std\n",
    "\n",
    "mean, std = get_mean_std(compute_loader)\n",
    "print(\"Mean:\", mean)\n",
    "print(\"Std:\", std)\n"
   ]
  },
  {
   "cell_type": "code",
   "execution_count": 11,
   "id": "e3b22327",
   "metadata": {},
   "outputs": [],
   "source": [
    "transform = transforms.Compose([\n",
    "    transforms.ToTensor(), #Converts images to Pytorch Tensors\n",
    "    transforms.Normalize((mean), (std))  # Normalizes tensors to have calculated mean and standard deviations.\n",
    "])"
   ]
  },
  {
   "cell_type": "code",
   "execution_count": 12,
   "id": "a262e3a4",
   "metadata": {},
   "outputs": [],
   "source": [
    "train_dataset = OlivettiFacesDataset(X_train, y_train, transform=transform)\n",
    "#Use num_workers =0 by default due to small size of dataset\n",
    "\n",
    "trainloader = DataLoader(train_dataset, batch_size=4, shuffle=True)\n",
    "\n",
    "test_dataset = OlivettiFacesDataset(X_test, y_test, transform=transform)\n",
    "testloader = DataLoader(test_dataset, batch_size=4, shuffle=False)"
   ]
  },
  {
   "cell_type": "code",
   "execution_count": null,
   "id": "9d0e70d8",
   "metadata": {},
   "outputs": [],
   "source": []
  },
  {
   "cell_type": "code",
   "execution_count": null,
   "id": "7ef541ae",
   "metadata": {},
   "outputs": [],
   "source": []
  },
  {
   "cell_type": "code",
   "execution_count": null,
   "id": "245aac6f",
   "metadata": {},
   "outputs": [],
   "source": []
  },
  {
   "cell_type": "code",
   "execution_count": null,
   "id": "22fb1efc",
   "metadata": {},
   "outputs": [],
   "source": []
  },
  {
   "cell_type": "code",
   "execution_count": null,
   "id": "f1973353",
   "metadata": {},
   "outputs": [],
   "source": []
  }
 ],
 "metadata": {
  "kernelspec": {
   "display_name": "Python 3 (ipykernel)",
   "language": "python",
   "name": "python3"
  },
  "language_info": {
   "codemirror_mode": {
    "name": "ipython",
    "version": 3
   },
   "file_extension": ".py",
   "mimetype": "text/x-python",
   "name": "python",
   "nbconvert_exporter": "python",
   "pygments_lexer": "ipython3",
   "version": "3.9.5"
  }
 },
 "nbformat": 4,
 "nbformat_minor": 5
}
